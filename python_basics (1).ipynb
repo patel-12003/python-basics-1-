{
  "nbformat": 4,
  "nbformat_minor": 0,
  "metadata": {
    "colab": {
      "provenance": []
    },
    "kernelspec": {
      "name": "python3",
      "display_name": "Python 3"
    },
    "language_info": {
      "name": "python"
    }
  },
  "cells": [
    {
      "cell_type": "markdown",
      "source": [
        "##PYTHON BASICS\n"
      ],
      "metadata": {
        "id": "-ubauQ66uDsP"
      }
    },
    {
      "cell_type": "markdown",
      "source": [
        "# Q1: What is python,and why is it popular?\n",
        "\"\"\"\n",
        "Ans: Python is high-level interpreted programming language discovered in the year 1991.And it is popular because python is widely used programming language in data industry, in automation, in image processing,and have a lots of libraries.\n",
        "\"\"\"\n",
        "\n",
        "# Q2: What is an interpreter in Python?\n",
        "\"\"\"\n",
        "Ans: In Python, an interpreter is a program that reads and executes the Python code line by line.\n",
        "\"\"\"\n",
        "# Q3: What are pre-defined keywords in Python?\n",
        "\"\"\"\n",
        "Ans: Keywords are predefined words that hold a special meaninng and have specific purpose in python. Also, keywords cannot be used as variable.\n",
        "\"\"\"\n",
        "# Q4: Can keywords be used as variable names?\n",
        "\"\"\"\n",
        "Ans: No, keywords cannot be used as variable names because all the keywords are used to create logic.\n",
        "\"\"\"\n",
        "# Q5: What is mutability in Python?\n",
        "\"\"\"\n",
        "Ans: objects whose value can be changed after they are created are known as mutable objects. OR with the help of mutability we can change or edit any element in the list.\n",
        "\"\"\"\n",
        "# Q6: Why are lists mutable, but tuples are immutable?\n",
        "\"\"\"\n",
        "Ans: both the data structure are ordered  collection but lists are designed to be flexible hence it is mutable, on the other hand, tuples are designed to represent fixed. Thus, it is immutable.\n",
        "\"\"\"\n",
        "\n",
        "# Q7: What is the difference between “==” and “is” operators in Python?\n",
        "\"\"\"\n",
        "Ans: In python, \"==\" and \"is\" operators both used to compare objects and acts differently. The \"==\" operator is equality comparison and \"is\" operator is identity comparison.\n",
        "\"\"\"\n",
        "\n",
        "# Q8: What are logical operators in Python?\n",
        "\"\"\"\n",
        "Ans: there are total three logical operators in python:\n",
        "     1. AND\n",
        "     2.OR\n",
        "     3.NOT\n",
        "\"\"\"\n",
        "# Q9:  What is type casting in Python?\n",
        "\"\"\"Ans: The process of changing the data type of a value is known as type casting.\n",
        "\"\"\"\n",
        "# Q10: What is the difference between implicit and explicit type casting?\n",
        "\"\"\"Ans: The main difference between implicit and explicit type casting is;\n",
        " the implicit is automatic  type conversion and explicit is manual type conversion.\n",
        "\"\"\"\n",
        "# Q11: What is the purpose of conditional statements in Python?\n",
        "\"\"\"\n",
        "Ans: Conditional statements helps us to code decisions based on some pre-conditions.\n",
        "\"\"\"\n",
        "# Q12: How does the elif statement work?\n",
        "\"\"\"\n",
        "Ans: if we want to execute multiple conditions then we use elif statement,also elif statement allows to check multiple conditions sequentially.\n",
        "\"\"\"\n",
        "# Q13: What is the difference between for and while loops?\n",
        "\"\"\"\n",
        "Ans: while loop repeatedly executed a block of code untill a condition is met,while for loop iterate over a sequence of elements.\n",
        "\"\"\"\n",
        "# Q14: Describe a scenario where a while loop is more suitable than a for loop.\n",
        "\"\"\"\n",
        "Ans: The situation where we want a proper input from user at that time the while loop is more suitable than a for loop.\n",
        "\"\"\""
      ],
      "metadata": {
        "id": "CgQPac4ZuQ_r"
      }
    },
    {
      "cell_type": "code",
      "execution_count": null,
      "metadata": {
        "colab": {
          "base_uri": "https://localhost:8080/"
        },
        "id": "G9Yfdsr8t0Ur",
        "outputId": "0ca02d1c-ad3c-45e1-cfd1-bb589e2167ab"
      },
      "outputs": [
        {
          "output_type": "stream",
          "name": "stdout",
          "text": [
            "Hello,World!\n"
          ]
        }
      ],
      "source": [
        "# Write a Python program to print \"Hello, World!\"\n",
        "\n",
        "print(\"Hello,World!\")\n"
      ]
    },
    {
      "cell_type": "code",
      "source": [
        "#Write a Python program that displays your name and age\n",
        "name=\"Patel Hetkumar Alpeshbhai\"\n",
        "age=\"21\"\n",
        "print(\"Name:\",name)\n",
        "print(\"Age:\",age)"
      ],
      "metadata": {
        "colab": {
          "base_uri": "https://localhost:8080/"
        },
        "id": "sKHMswty-RdC",
        "outputId": "161a0abc-3703-43b9-f5be-d0362791e23c"
      },
      "execution_count": null,
      "outputs": [
        {
          "output_type": "stream",
          "name": "stdout",
          "text": [
            "Name: Patel Hetkumar Alpeshbhai\n",
            "Age: 21\n"
          ]
        }
      ]
    },
    {
      "cell_type": "code",
      "source": [
        "#Write code to print all the pre-defined keywords in Python using the keyword library\n",
        "help(\"keywords\")"
      ],
      "metadata": {
        "colab": {
          "base_uri": "https://localhost:8080/"
        },
        "id": "JRgu1G6L-RZc",
        "outputId": "a7ff05ef-16b4-4952-effa-d2322ce022a9"
      },
      "execution_count": null,
      "outputs": [
        {
          "output_type": "stream",
          "name": "stdout",
          "text": [
            "\n",
            "Here is a list of the Python keywords.  Enter any keyword to get more help.\n",
            "\n",
            "False               class               from                or\n",
            "None                continue            global              pass\n",
            "True                def                 if                  raise\n",
            "and                 del                 import              return\n",
            "as                  elif                in                  try\n",
            "assert              else                is                  while\n",
            "async               except              lambda              with\n",
            "await               finally             nonlocal            yield\n",
            "break               for                 not                 \n",
            "\n"
          ]
        }
      ]
    },
    {
      "cell_type": "code",
      "source": [
        "#  Write a program that checks if a given word is a Python keyword\n",
        "S=\"het\"\n",
        "print( \"h\" in S)"
      ],
      "metadata": {
        "colab": {
          "base_uri": "https://localhost:8080/"
        },
        "id": "QyjHw7dr-RVM",
        "outputId": "50b0e4bf-0bd6-4823-eb79-ad3af1cc8824"
      },
      "execution_count": null,
      "outputs": [
        {
          "output_type": "stream",
          "name": "stdout",
          "text": [
            "True\n"
          ]
        }
      ]
    },
    {
      "cell_type": "code",
      "source": [
        "#Create a list and tuple in Python, and demonstrate how attempting to change an element works differently for each.\n",
        "\n",
        "lists=[1,2,3,4,5]\n",
        "tuples=(6,7,8,9,10)\n",
        "\n",
        "lists[0]=100\n",
        "lists"
      ],
      "metadata": {
        "colab": {
          "base_uri": "https://localhost:8080/"
        },
        "id": "lau8u8Wg-RRb",
        "outputId": "45f2a14a-1616-406f-8a4b-ff446268143a"
      },
      "execution_count": null,
      "outputs": [
        {
          "output_type": "execute_result",
          "data": {
            "text/plain": [
              "[100, 2, 3, 4, 5]"
            ]
          },
          "metadata": {},
          "execution_count": 11
        }
      ]
    },
    {
      "cell_type": "code",
      "source": [
        "tuples[1]=200\n",
        "tuples"
      ],
      "metadata": {
        "colab": {
          "base_uri": "https://localhost:8080/",
          "height": 159
        },
        "id": "a_TVWpNY-Q8l",
        "outputId": "c3b1b682-1450-47f8-b9ad-fd878d47b2fb"
      },
      "execution_count": null,
      "outputs": [
        {
          "output_type": "error",
          "ename": "TypeError",
          "evalue": "'tuple' object does not support item assignment",
          "traceback": [
            "\u001b[0;31m---------------------------------------------------------------------------\u001b[0m",
            "\u001b[0;31mTypeError\u001b[0m                                 Traceback (most recent call last)",
            "\u001b[0;32m<ipython-input-12-140f9c8a6871>\u001b[0m in \u001b[0;36m<cell line: 1>\u001b[0;34m()\u001b[0m\n\u001b[0;32m----> 1\u001b[0;31m \u001b[0mtuples\u001b[0m\u001b[0;34m[\u001b[0m\u001b[0;36m1\u001b[0m\u001b[0;34m]\u001b[0m\u001b[0;34m=\u001b[0m\u001b[0;36m200\u001b[0m\u001b[0;34m\u001b[0m\u001b[0;34m\u001b[0m\u001b[0m\n\u001b[0m\u001b[1;32m      2\u001b[0m \u001b[0mtuples\u001b[0m\u001b[0;34m\u001b[0m\u001b[0;34m\u001b[0m\u001b[0m\n",
            "\u001b[0;31mTypeError\u001b[0m: 'tuple' object does not support item assignment"
          ]
        }
      ]
    },
    {
      "cell_type": "code",
      "source": [
        "#Write a function to demonstrate the behavior of mutable and immutable arguments.\n",
        "\n"
      ],
      "metadata": {
        "id": "SvC6uMZUC4TZ"
      },
      "execution_count": null,
      "outputs": []
    },
    {
      "cell_type": "code",
      "source": [
        "#Write a program to demonstrate the use of logical operators.\n",
        "\n",
        "x = 18\n",
        "y = 9\n",
        "z = 27\n",
        "\n",
        "# Using the 'and' operator\n",
        "print(\"Using 'and' operator:\")\n",
        "if x > 9 and y < 18:\n",
        "    print(\"Both conditions are True: x > 9 and y < 18\")\n",
        "else:\n",
        "    print(\"At least one condition is False\")\n",
        "\n",
        "# Using the 'or' operator\n",
        "print(\"\\nUsing 'or' operator:\")\n",
        "if x > 27 or z < 36:\n",
        "    print(\"At least one condition is True: x > 27 or z < 36\")\n",
        "else:\n",
        "    print(\"Both conditions are False\")\n",
        "\n",
        "# Using the 'not' operator\n",
        "print(\"\\nUsing 'not' operator:\")\n",
        "if not (x == 18):\n",
        "    print(\"x is not equal to 18\")\n",
        "else:\n",
        "    print(\"x is equal to 18\")\n",
        "\n",
        "# Combining all three logical operators\n",
        "print(\"\\nUsing all three logical operators:\")\n",
        "if (x > 9 and y < 18) or (z == 27 and not(x ==27)):\n",
        "    print(\"The complex condition is True\")\n",
        "else:\n",
        "    print(\"The complex condition is False\")\n"
      ],
      "metadata": {
        "colab": {
          "base_uri": "https://localhost:8080/"
        },
        "id": "Eho-kbf4C4QA",
        "outputId": "7f34c6b9-1f83-4e1d-aaba-1242bc51054f"
      },
      "execution_count": null,
      "outputs": [
        {
          "output_type": "stream",
          "name": "stdout",
          "text": [
            "Using 'and' operator:\n",
            "Both conditions are True: x > 9 and y < 18\n",
            "\n",
            "Using 'or' operator:\n",
            "At least one condition is True: x > 27 or z < 36\n",
            "\n",
            "Using 'not' operator:\n",
            "x is equal to 18\n",
            "\n",
            "Using all three logical operators:\n",
            "The complex condition is True\n"
          ]
        }
      ]
    },
    {
      "cell_type": "code",
      "source": [
        "#Write a Python program to convert user input from string to integer, float, and boolean types\n",
        "user_input=\"2\"\n",
        "print(type(int(user_input)))\n",
        "print(type(float(user_input)))\n",
        "print(type(bool(user_input)))"
      ],
      "metadata": {
        "colab": {
          "base_uri": "https://localhost:8080/"
        },
        "id": "IvUw3PgNC4AI",
        "outputId": "3642138b-bd40-4767-8b6f-3d12821ba256"
      },
      "execution_count": null,
      "outputs": [
        {
          "output_type": "stream",
          "name": "stdout",
          "text": [
            "<class 'int'>\n",
            "<class 'float'>\n",
            "<class 'bool'>\n"
          ]
        }
      ]
    },
    {
      "cell_type": "code",
      "source": [
        "#Write code to demonstrate type casting with list elements.\n",
        "# List of strings (numeric values as strings)\n",
        "string_list = [\"1\", \"2\", \"3\", \"4\", \"5\"]\n",
        "\n",
        "# Convert all elements of the list from string to integer\n",
        "int_list = [int(item) for item in string_list]\n",
        "print(\"List after type casting from string to integer:\", int_list)\n",
        "\n",
        "# Convert all elements of the list from string to float\n",
        "float_list = [float(item) for item in string_list]\n",
        "print(\"List after type casting from string to float:\", float_list)\n",
        "\n",
        "# List of integers\n",
        "int_elements = [1, 2, 3, 4, 5]\n",
        "\n",
        "# Convert all elements of the list from integer to string\n",
        "str_list = [str(item) for item in int_elements]\n",
        "print(\"List after type casting from integer to string:\", str_list)\n",
        "\n",
        "# Convert all elements of the list from integer to boolean\n",
        "bool_list = [bool(item) for item in int_elements]\n",
        "print(\"List after type casting from integer to boolean:\", bool_list)\n"
      ],
      "metadata": {
        "colab": {
          "base_uri": "https://localhost:8080/"
        },
        "id": "DOmHsNpfC38O",
        "outputId": "e6cbcd44-f396-4e47-ff46-b9bae9882d81"
      },
      "execution_count": null,
      "outputs": [
        {
          "output_type": "stream",
          "name": "stdout",
          "text": [
            "List after type casting from string to integer: [1, 2, 3, 4, 5]\n",
            "List after type casting from string to float: [1.0, 2.0, 3.0, 4.0, 5.0]\n",
            "List after type casting from integer to string: ['1', '2', '3', '4', '5']\n",
            "List after type casting from integer to boolean: [True, True, True, True, True]\n"
          ]
        }
      ]
    },
    {
      "cell_type": "code",
      "source": [
        "#Write a program that checks if a number is positive, negative, or zero\n",
        "a=int(input(\"enter a number:\"))\n",
        "if a > 0:\n",
        "  print(\"the number is positive.\")\n",
        "elif a < 0:\n",
        "    print(\"the number is negative.\")\n",
        "else:\n",
        "      print(\"the number is zero.\")"
      ],
      "metadata": {
        "colab": {
          "base_uri": "https://localhost:8080/"
        },
        "id": "Cbv_rJt9-Qk9",
        "outputId": "65e26528-d452-49e2-8948-88eace109374"
      },
      "execution_count": null,
      "outputs": [
        {
          "output_type": "stream",
          "name": "stdout",
          "text": [
            "enter a number:-5\n",
            "the number is negative.\n"
          ]
        }
      ]
    },
    {
      "cell_type": "code",
      "source": [
        "# Write a for loop to print numbers from 1 to 10.\n",
        "for i in range(1,11):\n",
        "  print(i,end=\" \")"
      ],
      "metadata": {
        "colab": {
          "base_uri": "https://localhost:8080/"
        },
        "id": "QiX4JCVdLXif",
        "outputId": "8d24a6a3-fad6-40e8-a229-c85bfc07db64"
      },
      "execution_count": null,
      "outputs": [
        {
          "output_type": "stream",
          "name": "stdout",
          "text": [
            "1 2 3 4 5 6 7 8 9 10 "
          ]
        }
      ]
    },
    {
      "cell_type": "code",
      "source": [
        "#Write a Python program to find the sum of all even numbers between 1 and 50.\n",
        "sum_of_evens=0\n",
        "for num in range(1,51):\n",
        "  if num % 2 == 0:\n",
        "    sum_of_evens += num\n",
        "    print(\"Sum of all even numbers between 1 and 50:\", sum_of_evens)"
      ],
      "metadata": {
        "colab": {
          "base_uri": "https://localhost:8080/"
        },
        "id": "4Wek3rYxMMhU",
        "outputId": "03fd0557-3835-4afb-9362-3fb3c7f715e4"
      },
      "execution_count": null,
      "outputs": [
        {
          "output_type": "stream",
          "name": "stdout",
          "text": [
            "Sum of all even numbers between 1 and 50: 2\n",
            "Sum of all even numbers between 1 and 50: 6\n",
            "Sum of all even numbers between 1 and 50: 12\n",
            "Sum of all even numbers between 1 and 50: 20\n",
            "Sum of all even numbers between 1 and 50: 30\n",
            "Sum of all even numbers between 1 and 50: 42\n",
            "Sum of all even numbers between 1 and 50: 56\n",
            "Sum of all even numbers between 1 and 50: 72\n",
            "Sum of all even numbers between 1 and 50: 90\n",
            "Sum of all even numbers between 1 and 50: 110\n",
            "Sum of all even numbers between 1 and 50: 132\n",
            "Sum of all even numbers between 1 and 50: 156\n",
            "Sum of all even numbers between 1 and 50: 182\n",
            "Sum of all even numbers between 1 and 50: 210\n",
            "Sum of all even numbers between 1 and 50: 240\n",
            "Sum of all even numbers between 1 and 50: 272\n",
            "Sum of all even numbers between 1 and 50: 306\n",
            "Sum of all even numbers between 1 and 50: 342\n",
            "Sum of all even numbers between 1 and 50: 380\n",
            "Sum of all even numbers between 1 and 50: 420\n",
            "Sum of all even numbers between 1 and 50: 462\n",
            "Sum of all even numbers between 1 and 50: 506\n",
            "Sum of all even numbers between 1 and 50: 552\n",
            "Sum of all even numbers between 1 and 50: 600\n",
            "Sum of all even numbers between 1 and 50: 650\n"
          ]
        }
      ]
    },
    {
      "cell_type": "code",
      "source": [
        "#Write a program to reverse a string using a while loop.\n",
        "string=\"het\"\n",
        "string[:  :  -1]\n"
      ],
      "metadata": {
        "colab": {
          "base_uri": "https://localhost:8080/",
          "height": 35
        },
        "id": "K-492LbTNSFA",
        "outputId": "8ef2c9ba-f054-41e1-aee8-2c63c877f949"
      },
      "execution_count": null,
      "outputs": [
        {
          "output_type": "execute_result",
          "data": {
            "text/plain": [
              "'teh'"
            ],
            "application/vnd.google.colaboratory.intrinsic+json": {
              "type": "string"
            }
          },
          "metadata": {},
          "execution_count": 35
        }
      ]
    },
    {
      "cell_type": "code",
      "source": [
        "#Write a Python program to calculate the factorial of a number provided by the user using a while loop.\n",
        "\n",
        "def factorial(number):\n",
        "    result = 1\n",
        "\n",
        "\n",
        "    if number < 0:\n",
        "        return \"Factorial does not exist for negative numbers\"\n",
        "\n",
        "    while number > 1:\n",
        "       result *= number\n",
        "       number -= 1\n",
        "\n",
        "    return result\n",
        "\n",
        "\n",
        "user_input = int(input(\"Enter a number to calculate its factorial: \"))\n",
        "\n",
        "print(\"Factorial:\", factorial(user_input))\n"
      ],
      "metadata": {
        "colab": {
          "base_uri": "https://localhost:8080/"
        },
        "id": "K9oBgsWbPObl",
        "outputId": "4a700985-b296-4f92-f767-2852e50b8859"
      },
      "execution_count": null,
      "outputs": [
        {
          "output_type": "stream",
          "name": "stdout",
          "text": [
            "Enter a number to calculate its factorial: 5\n",
            "Factorial: 120\n"
          ]
        }
      ]
    },
    {
      "cell_type": "code",
      "source": [],
      "metadata": {
        "id": "vK9um9XeQOzw"
      },
      "execution_count": null,
      "outputs": []
    }
  ]
}